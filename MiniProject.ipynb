{
 "cells": [
  {
   "cell_type": "markdown",
   "id": "58499058-e311-4689-88d0-775393622150",
   "metadata": {},
   "source": [
    "# Mini projet"
   ]
  },
  {
   "cell_type": "markdown",
   "id": "6ee062b2-aa74-4474-b830-167911eb7c4b",
   "metadata": {
    "tags": []
   },
   "source": [
    "## Mise en place de l'espace de travail\n",
    "Pour réaliser le projet nous utilisons la plateforme JupyterHub fournie par les enseignants.\n",
    "\n",
    "Pour collaborer, nous utilisons un dépot git hébergé sur github.\n",
    "\n",
    "Pour la gestion de projet nous utilisons Trello\n",
    "\n",
    "## Recherche documentaire\n",
    "\n",
    "- Modélisation stochastique macroscopique d'ordre supérieur du trafic sur les réseaux routiers : implications managériales\n",
    "Article intéressant et assez poussé. Il cite beaucoup de références et peut êre un point de départ pour trouver d'autres aarticles intéressants. Mais pas de représentation graphique\n",
    "https://rfgi.fr/rfgi/article/view/1156\n",
    "\n",
    "- Article de journal pour expliquer la formation des bouchons. Pas mal pour la partie vulgarisation\n",
    "https://theconversation.com/comment-se-forment-les-embouteillages-163994\n",
    "\n",
    "- Pareil, vulgarisation :\n",
    "https://www.youtube.com/watch?v=wHz6S2dbYb4\n",
    "\n",
    "- Un repo sympa a aller voir. Il utilise pygame pour la représentation\n",
    "https://github.com/alokin-fr/road-traffic-simulation\n",
    "\n",
    "- Un article chouette pour la modélisation et la représentation (le site est un peu chelou mais l'article vaut le coup)\n",
    "https://ichi.pro/fr/simulation-du-flux-de-trafic-en-python-261815490433551\n",
    "\n",
    "- https://www.youtube.com/watch?v=4DRGo3NUM_k\n",
    "\n",
    "    Éléments clefs de la vidéo (modélisation mathématique):\n",
    "    \n",
    "    Workflow du problème : Définition du problème $\\to$ Choix des variables $\\to$ Hypothèses sous-jacentes $\\to$ Construction du modèle $\\to$ Évaluation du modèle\n",
    "    \n",
    "    Exemple trivial pour commencer : la route droite, avec des voitures en file indienne, si la voiture de devant ralentit, les voitures de derrière vont aussi ralentir, cet effet peut se démultiplier. \n",
    "    \n",
    "    Le conducteur a essentiellement le contrôle sur son ralentissement/accélération (variables), celles-ci sont influencées par : \n",
    "    - La distance entre les deux voitures\n",
    "    - La vitesse relative \n",
    "    - On peut penser à encore plus de variables : obstacles imminents, état émotionnel/physique du conducteur, présence de radars, état de la route etc.\n",
    "    \n",
    "    **Le choix des variables est un reflet de la visée de notre modèle i.e. ce qu'on cherche à mettre en évidence**.\n",
    "    \n",
    "    Hypothèses possibles : \n",
    "    - Les voitures ont la même masse $m$ et longueur $L$\n",
    "    - Une seule voie (pas de doublement)\n",
    "    - La position des voitures est l'avant du véhicule, dénotée par $x_i(t)$\n",
    "    - A priori, on ne veut pas d'accident, donc on impose : $$ x_i(t)<x_{i-1}(t) + L$$\n",
    "    \n",
    "    Modèle : \n",
    "    - Avec nos deux variables, on peut supposer que plus la vitesse relative est grande, plus la force de freinage sera importante. De la même manière, plus la distance relative sera petite, plus la force de freinage sera importante. On peut donc supposer en premier lieu qu'on a la relation suivante : $$ m \\cdot x''_{i}(t) = c\\frac{x'_{i}(t)-x'_{i-1}(t)}{\\left|x_{i}(t)-x_{i-1}(t)\\right|}$$\n",
    "    Comme l'humain ne réagit pas instantanément, on peut corriger la première approximation grossière en rajoutant un temps de réaction $\\tau$ : $$ m \\cdot x''_{i}(t+\\tau) = c\\frac{x'_{i}(t)-x'_{i-1}(t)}{\\left|x_{i}(t)-x_{i-1}(t)\\right|}$$ \n",
    "    On peut supposer que le temps de réaction $\\tau$ est le même pour tous les conducteurs (nouvelle hypothèse).\n",
    "    \n",
    "        En intégrant une première fois : $$v_{i}(t+\\tau) = C\\ln(\\left| x_{i}(t)-x_{i-1}(t)\\right|)+D_i$$\n",
    "        \n",
    "    Avec notre modèle, on cherche à optimiser le trafic, c'est-à-dire atteindre un équilibre, on pourrait le définir comme les conditions suivantes : \n",
    "    - Les voitures ont la même vitesse $v$\n",
    "    - La distance entre les voitures est $d$\n",
    "    \n",
    "    On pourra alors parler de densité $\\rho$ et on pourra étudier la vitesse des voitures en fonction de $\\rho$ par exemple.\n",
    "    \n",
    "    On pourra par ailleurs étudier les petites variations des positions $x_{i}(t)$ autour de leurs positions d'équilibre et les répercussions sur le trafic. Il faudra donc bien modéliser la *première* voiture qui est à l'origine de la perturbation. Un modèle possible parmi tant d'autres serait : \n",
    "    - La voiture commence avec la vitesse d'équilibre\n",
    "    - Elle freine légèrement entre $t=0$ et $t=t_1$\n",
    "    - Elle revient à sa vitesse d'équilibre après\n",
    "    - Sa vitesse est donnée par $$ x'_{1}(t) = \\left\\{ \\begin{array}{cl}\n",
    "v &, & \\ t \\leq 0 \\\\\n",
    "v(1-kt\\exp(\\frac{t_1-t}{t_1})) &, & \\ t > 0\n",
    "\\end{array} \\right.$$\n",
    "\n",
    "    Cela nous permettra d'étudier la perturbation sur chaque voiture dans le temps.\n",
    "\n",
    "- https://www.youtube.com/watch?v=YbERBok9s0I\n",
    "https://www.youtube.com/watch?v=tDMMyNQZuF8\n",
    "\n",
    "    Cours très intéressants sur la typologie des modèles mathématiques d'étude du trafic de voiture, ils rentrent dans les détails croustillants (EDP, conditions aux bords, algorithme de résolution etc.)"
   ]
  }
 ],
 "metadata": {
  "kernelspec": {
   "display_name": "Python 3 (ipykernel)",
   "language": "python",
   "name": "python3"
  },
  "language_info": {
   "codemirror_mode": {
    "name": "ipython",
    "version": 3
   },
   "file_extension": ".py",
   "mimetype": "text/x-python",
   "name": "python",
   "nbconvert_exporter": "python",
   "pygments_lexer": "ipython3",
   "version": "3.9.7"
  }
 },
 "nbformat": 4,
 "nbformat_minor": 5
}
