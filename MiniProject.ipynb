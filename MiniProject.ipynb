{
 "cells": [
  {
   "cell_type": "markdown",
   "id": "58499058-e311-4689-88d0-775393622150",
   "metadata": {},
   "source": [
    "# Mini projet"
   ]
  },
  {
   "cell_type": "markdown",
   "id": "6ee062b2-aa74-4474-b830-167911eb7c4b",
   "metadata": {},
   "source": [
    "## Mise en place de l'espace de travail\n",
    "Pour réaliser le projet nous utilisons la plateforme JupyterHub fournie par les enseignants.\n",
    "\n",
    "Pour collaborer, nous utilisons un dépot git hébergé sur github.\n",
    "\n"
   ]
  }
 ],
 "metadata": {
  "kernelspec": {
   "display_name": "Python 3 (ipykernel)",
   "language": "python",
   "name": "python3"
  },
  "language_info": {
   "codemirror_mode": {
    "name": "ipython",
    "version": 3
   },
   "file_extension": ".py",
   "mimetype": "text/x-python",
   "name": "python",
   "nbconvert_exporter": "python",
   "pygments_lexer": "ipython3",
   "version": "3.9.7"
  }
 },
 "nbformat": 4,
 "nbformat_minor": 5
}
