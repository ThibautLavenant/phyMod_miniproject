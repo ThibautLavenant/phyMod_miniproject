{
 "cells": [
  {
   "cell_type": "markdown",
   "id": "58499058-e311-4689-88d0-775393622150",
   "metadata": {},
   "source": [
    "# Mini projet"
   ]
  },
  {
   "cell_type": "markdown",
   "id": "6ee062b2-aa74-4474-b830-167911eb7c4b",
   "metadata": {},
   "source": [
    "## Mise en place de l'espace de travail\n",
    "Pour réaliser le projet nous utilisons la plateforme JupyterHub fournie par les enseignants.\n",
    "\n",
    "Pour collaborer, nous utilisons un dépot git hébergé sur github.\n",
    "\n",
    "Pour la gestion de projet nous utilisons Trello\n",
    "\n",
    "## Recherche documentaire\n",
    "\n",
    "Modélisation stochastique macroscopique d'ordre supérieur du trafic sur les réseaux routiers : implications managériales\n",
    "Article intéressant et assez poussé. Il cite beaucoup de références et peut êre un point de départ pour trouver d'autres aarticles intéressants. Mais pas de représentation graphique\n",
    "https://rfgi.fr/rfgi/article/view/1156\n",
    "\n",
    "Article de journal pour expliquer la formation des bouchons. Pas mal pour la partie vulgarisation\n",
    "https://theconversation.com/comment-se-forment-les-embouteillages-163994\n",
    "\n",
    "Pareil, vulgarisation :\n",
    "https://www.youtube.com/watch?v=wHz6S2dbYb4\n",
    "\n",
    "Un repo sympa a aller voir. Il utilise pygame pour la représentation\n",
    "https://github.com/alokin-fr/road-traffic-simulation\n",
    "\n",
    "Un article chouette pour la modélisation et la représentation (le site est un peu chelou mais l'article vaut le coup)\n",
    "https://ichi.pro/fr/simulation-du-flux-de-trafic-en-python-261815490433551\n",
    "\n"
   ]
  }
 ],
 "metadata": {
  "kernelspec": {
   "display_name": "Python 3 (ipykernel)",
   "language": "python",
   "name": "python3"
  },
  "language_info": {
   "codemirror_mode": {
    "name": "ipython",
    "version": 3
   },
   "file_extension": ".py",
   "mimetype": "text/x-python",
   "name": "python",
   "nbconvert_exporter": "python",
   "pygments_lexer": "ipython3",
   "version": "3.9.7"
  }
 },
 "nbformat": 4,
 "nbformat_minor": 5
}
